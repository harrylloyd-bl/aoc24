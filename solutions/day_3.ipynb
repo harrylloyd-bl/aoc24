{
 "cells": [
  {
   "cell_type": "code",
   "execution_count": null,
   "id": "d323a6d8-5776-460e-9e5f-936fede4210b",
   "metadata": {},
   "outputs": [],
   "source": [
    "import re"
   ]
  },
  {
   "cell_type": "code",
   "execution_count": null,
   "id": "9416c5f0-9130-4f97-93b7-ab5b2ab5e49e",
   "metadata": {},
   "outputs": [],
   "source": [
    "#  Clean data\n",
    "with open(\"..\\\\data\\\\raw\\\\day_3.txt\", \"r\") as f:\n",
    "    raw_lines = f.readlines()\n",
    "    lines = [l.strip(\"\\n\") for l in raw_lines]\n",
    "\n",
    "program = \"\"\n",
    "for l in lines:\n",
    "    program += l"
   ]
  },
  {
   "cell_type": "markdown",
   "id": "d427696d-d084-4a70-8815-77a6089756d0",
   "metadata": {},
   "source": [
    "#### Pt 1"
   ]
  },
  {
   "cell_type": "code",
   "execution_count": null,
   "id": "820ca001-742c-49c6-b2aa-ff819f81b6bf",
   "metadata": {},
   "outputs": [],
   "source": [
    "mul_p = re.compile(r\"(?<=mul\\()(\\d+),(\\d+)(?=\\))\")\n",
    "mul_commands = mul_p.findall(program)\n",
    "\n",
    "pt_1_sum = 0\n",
    "for c in mul_commands:\n",
    "    pt_1_sum += int(c[0]) * int(c[1])\n",
    "\n",
    "print(f\"Part 1: Sum of multiplications = {pt_1_sum}\")"
   ]
  },
  {
   "cell_type": "markdown",
   "id": "6bce6f73-eeb5-4a46-9432-5c699f109c48",
   "metadata": {},
   "source": [
    "#### Pt 2"
   ]
  },
  {
   "cell_type": "code",
   "execution_count": null,
   "id": "a7da15bb-a037-45de-9948-08066c4eb023",
   "metadata": {},
   "outputs": [],
   "source": [
    "donts = program.split(\"don't()\")"
   ]
  },
  {
   "cell_type": "code",
   "execution_count": null,
   "id": "20f6abfa-45e9-428b-906c-4fed98388e54",
   "metadata": {},
   "outputs": [],
   "source": [
    "do_donts = [d for d in donts[1:] if \"do()\" in d]"
   ]
  },
  {
   "cell_type": "code",
   "execution_count": null,
   "id": "036d1c2a-c6b7-4107-84b4-946a025cefdb",
   "metadata": {},
   "outputs": [],
   "source": [
    "len(do_donts), len(donts)"
   ]
  },
  {
   "cell_type": "code",
   "execution_count": null,
   "id": "e45ad8ea-e394-4711-9589-65d6076c052c",
   "metadata": {},
   "outputs": [],
   "source": [
    "do_p = re.compile(r\"(?<=do\\(\\)).*\")"
   ]
  },
  {
   "cell_type": "code",
   "execution_count": null,
   "id": "f188bb6c-28d7-4ce7-bedb-4639ee27b93a",
   "metadata": {},
   "outputs": [],
   "source": [
    "dd_muls = []\n",
    "# handle the beginning of the programme to the first don't()\n",
    "# all muls count here, even before the first do()\n",
    "dd_muls.extend(mul_p.findall(donts[0]))  \n",
    "\n",
    "for d in do_donts:\n",
    "    do_str = do_p.search(d).group()\n",
    "    new_muls = mul_p.findall(do_str)\n",
    "    dd_muls.extend(new_muls)"
   ]
  },
  {
   "cell_type": "code",
   "execution_count": null,
   "id": "f4738ffe-502d-41a2-9105-47bdc5b57ff4",
   "metadata": {},
   "outputs": [],
   "source": [
    "pt_2_sum = 0\n",
    "for c in dd_muls:\n",
    "    pt_2_sum += int(c[0]) * int(c[1])\n",
    "\n",
    "print(f\"Part 2: Sum of multiplications = {pt_2_sum}\")"
   ]
  }
 ],
 "metadata": {
  "kernelspec": {
   "display_name": "Python [conda env:base-plus] *",
   "language": "python",
   "name": "conda-env-base-plus-py"
  },
  "language_info": {
   "codemirror_mode": {
    "name": "ipython",
    "version": 3
   },
   "file_extension": ".py",
   "mimetype": "text/x-python",
   "name": "python",
   "nbconvert_exporter": "python",
   "pygments_lexer": "ipython3",
   "version": "3.13.0"
  }
 },
 "nbformat": 4,
 "nbformat_minor": 5
}
